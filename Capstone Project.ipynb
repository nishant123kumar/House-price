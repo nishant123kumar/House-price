{
 "cells": [
  {
   "cell_type": "markdown",
   "metadata": {},
   "source": [
    "# CAPSTONE PROJECT (TEAM 1)\n",
    "## HOUSE PRICE PREDICTION"
   ]
  },
  {
   "cell_type": "markdown",
   "metadata": {},
   "source": [
    "## NISHANT KUMAR \n",
    "## THANUSHA DEVRAJULA\n",
    "## MEGHA DEEPIKA\n",
    "## HARSH KODALI\n",
    "## VALI PRAVEEN\n",
    "## SRINIVAS KALVA"
   ]
  },
  {
   "cell_type": "code",
   "execution_count": 1,
   "metadata": {},
   "outputs": [],
   "source": [
    "# importing packages required for data manipulation and mathematical calculation\n",
    "import pandas as pd     \n",
    "import numpy as np\n",
    "\n",
    "#importing packages for plottong graphs\n",
    "import matplotlib.pyplot as plt\n",
    "import seaborn as sns\n",
    "\n",
    "#importing packages for splitting the data\n",
    "from sklearn.model_selection import train_test_split\n",
    "\n",
    "#importing different models for our dataset\n",
    "from sklearn.linear_model import LassoCV,RidgeCV,LinearRegression\n",
    "from sklearn.ensemble import RandomForestRegressor\n",
    "from vecstack import stacking\n",
    "\n",
    "#importing packages for model evaluarion\n",
    "from sklearn.metrics import mean_squared_error,r2_score\n",
    "def mean_absolute_percentage_error(y_true,y_pred):\n",
    "     return np.mean(np.abs((y_true-y_pred)/y_true))*100"
   ]
  },
  {
   "cell_type": "code",
   "execution_count": 2,
   "metadata": {},
   "outputs": [],
   "source": [
    "data=pd.read_csv(\"train.csv\")"
   ]
  },
  {
   "cell_type": "code",
   "execution_count": 3,
   "metadata": {},
   "outputs": [
    {
     "data": {
      "text/plain": [
       "(1460, 81)"
      ]
     },
     "execution_count": 3,
     "metadata": {},
     "output_type": "execute_result"
    }
   ],
   "source": [
    "data.shape"
   ]
  },
  {
   "cell_type": "code",
   "execution_count": 4,
   "metadata": {},
   "outputs": [
    {
     "data": {
      "text/plain": [
       "PoolQC           0.995205\n",
       "MiscFeature      0.963014\n",
       "Alley            0.937671\n",
       "Fence            0.807534\n",
       "FireplaceQu      0.472603\n",
       "LotFrontage      0.177397\n",
       "GarageCond       0.055479\n",
       "GarageType       0.055479\n",
       "GarageYrBlt      0.055479\n",
       "GarageFinish     0.055479\n",
       "GarageQual       0.055479\n",
       "BsmtExposure     0.026027\n",
       "BsmtFinType2     0.026027\n",
       "BsmtFinType1     0.025342\n",
       "BsmtCond         0.025342\n",
       "BsmtQual         0.025342\n",
       "MasVnrArea       0.005479\n",
       "MasVnrType       0.005479\n",
       "Electrical       0.000685\n",
       "Utilities        0.000000\n",
       "YearRemodAdd     0.000000\n",
       "MSSubClass       0.000000\n",
       "Foundation       0.000000\n",
       "ExterCond        0.000000\n",
       "ExterQual        0.000000\n",
       "Exterior2nd      0.000000\n",
       "Exterior1st      0.000000\n",
       "RoofMatl         0.000000\n",
       "RoofStyle        0.000000\n",
       "YearBuilt        0.000000\n",
       "                   ...   \n",
       "GarageArea       0.000000\n",
       "PavedDrive       0.000000\n",
       "WoodDeckSF       0.000000\n",
       "OpenPorchSF      0.000000\n",
       "3SsnPorch        0.000000\n",
       "BsmtUnfSF        0.000000\n",
       "ScreenPorch      0.000000\n",
       "PoolArea         0.000000\n",
       "MiscVal          0.000000\n",
       "MoSold           0.000000\n",
       "YrSold           0.000000\n",
       "SaleType         0.000000\n",
       "Functional       0.000000\n",
       "TotRmsAbvGrd     0.000000\n",
       "KitchenQual      0.000000\n",
       "KitchenAbvGr     0.000000\n",
       "BedroomAbvGr     0.000000\n",
       "HalfBath         0.000000\n",
       "FullBath         0.000000\n",
       "BsmtHalfBath     0.000000\n",
       "BsmtFullBath     0.000000\n",
       "GrLivArea        0.000000\n",
       "LowQualFinSF     0.000000\n",
       "2ndFlrSF         0.000000\n",
       "1stFlrSF         0.000000\n",
       "CentralAir       0.000000\n",
       "SaleCondition    0.000000\n",
       "Heating          0.000000\n",
       "TotalBsmtSF      0.000000\n",
       "Id               0.000000\n",
       "Length: 81, dtype: float64"
      ]
     },
     "execution_count": 4,
     "metadata": {},
     "output_type": "execute_result"
    }
   ],
   "source": [
    "data.isnull().sum().sort_values(ascending=False)/1460"
   ]
  },
  {
   "cell_type": "code",
   "execution_count": 5,
   "metadata": {},
   "outputs": [],
   "source": [
    "# Here we are droping the column with more than 500 null values\n",
    "drop=[]\n",
    "for i in data.columns:\n",
    "    if data[i].isnull().sum()>500:\n",
    "        drop.append(i)\n",
    "data.drop(drop,axis=1,inplace=True)\n",
    "\n",
    "# Here we are separating the data into categorical and numerical\n",
    "cat=[]\n",
    "num=[]\n",
    "for i in data.columns:\n",
    "    if data[i].dtype=='O':\n",
    "        cat.append(i)\n",
    "    else:\n",
    "        num.append(i)\n",
    "data_cat=data.loc[:,cat]\n",
    "data_num=data.loc[:,num]\n",
    "\n",
    "#Here we are separating the categorical column into null and nut null \n",
    "null=[]\n",
    "not_null=[]\n",
    "for i in data_cat.columns:\n",
    "    if data[i].isnull().sum()>0:\n",
    "        null.append(i)\n",
    "    else:\n",
    "        not_null.append(i)"
   ]
  },
  {
   "cell_type": "code",
   "execution_count": 6,
   "metadata": {},
   "outputs": [
    {
     "data": {
      "text/plain": [
       "MasVnrType       8\n",
       "BsmtQual        37\n",
       "BsmtCond        37\n",
       "BsmtExposure    38\n",
       "BsmtFinType1    37\n",
       "BsmtFinType2    38\n",
       "Electrical       1\n",
       "GarageType      81\n",
       "GarageFinish    81\n",
       "GarageQual      81\n",
       "GarageCond      81\n",
       "dtype: int64"
      ]
     },
     "execution_count": 6,
     "metadata": {},
     "output_type": "execute_result"
    }
   ],
   "source": [
    "data_cat.loc[:,null].isnull().sum()"
   ]
  },
  {
   "cell_type": "code",
   "execution_count": 7,
   "metadata": {},
   "outputs": [],
   "source": [
    "# As Electrical column has only 1 missing value so we are going for mode imputation\n",
    "data_cat[\"Electrical\"].fillna(data_cat[\"Electrical\"].mode()[0],inplace=True)"
   ]
  },
  {
   "cell_type": "markdown",
   "metadata": {},
   "source": [
    "# Example for imputing an categorical column"
   ]
  },
  {
   "cell_type": "code",
   "execution_count": 8,
   "metadata": {},
   "outputs": [
    {
     "data": {
      "text/plain": [
       "81"
      ]
     },
     "execution_count": 8,
     "metadata": {},
     "output_type": "execute_result"
    }
   ],
   "source": [
    "data[\"GarageType\"].isnull().sum()"
   ]
  },
  {
   "cell_type": "code",
   "execution_count": 9,
   "metadata": {},
   "outputs": [
    {
     "data": {
      "text/plain": [
       "array(['Attchd', 'Detchd', 'BuiltIn', 'CarPort', nan, 'Basment', '2Types'],\n",
       "      dtype=object)"
      ]
     },
     "execution_count": 9,
     "metadata": {},
     "output_type": "execute_result"
    }
   ],
   "source": [
    "data[\"GarageType\"].unique()"
   ]
  },
  {
   "cell_type": "code",
   "execution_count": 10,
   "metadata": {},
   "outputs": [
    {
     "data": {
      "text/plain": [
       "39    NaN\n",
       "48    NaN\n",
       "78    NaN\n",
       "88    NaN\n",
       "89    NaN\n",
       "Name: GarageType, dtype: object"
      ]
     },
     "execution_count": 10,
     "metadata": {},
     "output_type": "execute_result"
    }
   ],
   "source": [
    "data[\"GarageType\"][data[\"GarageType\"].isnull()].head()"
   ]
  },
  {
   "cell_type": "code",
   "execution_count": 11,
   "metadata": {},
   "outputs": [
    {
     "data": {
      "text/html": [
       "<div>\n",
       "<style scoped>\n",
       "    .dataframe tbody tr th:only-of-type {\n",
       "        vertical-align: middle;\n",
       "    }\n",
       "\n",
       "    .dataframe tbody tr th {\n",
       "        vertical-align: top;\n",
       "    }\n",
       "\n",
       "    .dataframe thead th {\n",
       "        text-align: right;\n",
       "    }\n",
       "</style>\n",
       "<table border=\"1\" class=\"dataframe\">\n",
       "  <thead>\n",
       "    <tr style=\"text-align: right;\">\n",
       "      <th></th>\n",
       "      <th>2Types</th>\n",
       "      <th>Attchd</th>\n",
       "      <th>Basment</th>\n",
       "      <th>BuiltIn</th>\n",
       "      <th>CarPort</th>\n",
       "      <th>Detchd</th>\n",
       "    </tr>\n",
       "  </thead>\n",
       "  <tbody>\n",
       "    <tr>\n",
       "      <th>39</th>\n",
       "      <td>0</td>\n",
       "      <td>0</td>\n",
       "      <td>0</td>\n",
       "      <td>0</td>\n",
       "      <td>0</td>\n",
       "      <td>0</td>\n",
       "    </tr>\n",
       "    <tr>\n",
       "      <th>48</th>\n",
       "      <td>0</td>\n",
       "      <td>0</td>\n",
       "      <td>0</td>\n",
       "      <td>0</td>\n",
       "      <td>0</td>\n",
       "      <td>0</td>\n",
       "    </tr>\n",
       "    <tr>\n",
       "      <th>78</th>\n",
       "      <td>0</td>\n",
       "      <td>0</td>\n",
       "      <td>0</td>\n",
       "      <td>0</td>\n",
       "      <td>0</td>\n",
       "      <td>0</td>\n",
       "    </tr>\n",
       "    <tr>\n",
       "      <th>88</th>\n",
       "      <td>0</td>\n",
       "      <td>0</td>\n",
       "      <td>0</td>\n",
       "      <td>0</td>\n",
       "      <td>0</td>\n",
       "      <td>0</td>\n",
       "    </tr>\n",
       "    <tr>\n",
       "      <th>89</th>\n",
       "      <td>0</td>\n",
       "      <td>0</td>\n",
       "      <td>0</td>\n",
       "      <td>0</td>\n",
       "      <td>0</td>\n",
       "      <td>0</td>\n",
       "    </tr>\n",
       "  </tbody>\n",
       "</table>\n",
       "</div>"
      ],
      "text/plain": [
       "    2Types  Attchd  Basment  BuiltIn  CarPort  Detchd\n",
       "39       0       0        0        0        0       0\n",
       "48       0       0        0        0        0       0\n",
       "78       0       0        0        0        0       0\n",
       "88       0       0        0        0        0       0\n",
       "89       0       0        0        0        0       0"
      ]
     },
     "execution_count": 11,
     "metadata": {},
     "output_type": "execute_result"
    }
   ],
   "source": [
    "x=pd.get_dummies(data[\"GarageType\"])\n",
    "x.iloc[[39,48,78,88,89],:]"
   ]
  },
  {
   "cell_type": "markdown",
   "metadata": {},
   "source": [
    "# Treating null columns"
   ]
  },
  {
   "cell_type": "code",
   "execution_count": 12,
   "metadata": {},
   "outputs": [
    {
     "name": "stdout",
     "output_type": "stream",
     "text": [
      "Shape of the final data (1460, 245)\n",
      "No of null values in final data:  0\n"
     ]
    }
   ],
   "source": [
    "# here we are taking dummy variable for all null columns\n",
    "data_null=pd.get_dummies(data_cat.loc[:,null]) \n",
    "\n",
    "#here we are taking dummy for rest of the column and droping the first column\n",
    "data_not_null=pd.get_dummies(data_cat.loc[:,not_null],drop_first=True)\n",
    "\n",
    "#Here we are concating the null and not null categorical data to one data\n",
    "data_cat_new=pd.concat([data_not_null,data_null],axis=1)\n",
    "\n",
    "#Here we are imputing 0 to rest of the numerical variable\n",
    "data_num[\"GarageYrBlt\"].fillna(0,inplace=True)\n",
    "data_num[\"MasVnrArea\"].fillna(0,inplace=True)\n",
    "data_num[\"LotFrontage\"].fillna(0,inplace=True)\n",
    "\n",
    "#Here we are concating the numerical data with categorical data \n",
    "data_new=pd.concat([data_num,data_cat_new],axis=1)\n",
    "print(\"Shape of the final data\",data_new.shape)\n",
    "print(\"No of null values in final data: \",data_new.isnull().sum().sum())"
   ]
  },
  {
   "cell_type": "markdown",
   "metadata": {},
   "source": [
    "# Feature Engineering on some columns"
   ]
  },
  {
   "cell_type": "code",
   "execution_count": 13,
   "metadata": {},
   "outputs": [],
   "source": [
    "#Here we are adding two floor square feet to new one \n",
    "data_new[\"Total_Sqft\"]=data_new[\"1stFlrSF\"]+data[\"2ndFlrSF\"]\n",
    "\n",
    "#After combining we dont require 1st floor SF and 2nd floor SF\n",
    "data_new.drop([\"1stFlrSF\",\"2ndFlrSF\"],inplace=True,axis=1)\n",
    "\n",
    "#Here we are adding two type of bathrooms two one\n",
    "data_new[\"TotalBathroom\"]=data_new[\"FullBath\"]+0.5*data_new[\"HalfBath\"]\n",
    "\n",
    "#Here we are adding two types of basement bathrooms to one\n",
    "data_new[\"TotalBasementBathroom\"]=data_new[\"BsmtFullBath\"]+0.5*data_new[\"BsmtHalfBath\"]\n",
    "\n",
    "#Here we are adding two kind of basement bathrooms to one\n",
    "data_new.drop([\"FullBath\",\"HalfBath\",\"BsmtFullBath\",\"BsmtHalfBath\"],axis=1,inplace=True)\n",
    "\n",
    "#Here we are droping the two columns due to multicollinearity\n",
    "data_new.drop([\"YearBuilt\",\"GrLivArea\"],inplace=True,axis=1)"
   ]
  },
  {
   "cell_type": "code",
   "execution_count": 14,
   "metadata": {},
   "outputs": [
    {
     "data": {
      "text/plain": [
       "(1460, 240)"
      ]
     },
     "execution_count": 14,
     "metadata": {},
     "output_type": "execute_result"
    }
   ],
   "source": [
    "data=data_new\n",
    "data.shape"
   ]
  },
  {
   "cell_type": "markdown",
   "metadata": {},
   "source": [
    "# splitting the data into two parts"
   ]
  },
  {
   "cell_type": "code",
   "execution_count": 15,
   "metadata": {},
   "outputs": [],
   "source": [
    "x=data.drop(['Id','SalePrice'],axis=1)\n",
    "y=data[\"SalePrice\"]\n",
    "y_log=np.log(data[\"SalePrice\"])   # Here sales price we have taken as log\n",
    "x_train,x_test,y_train,y_test=train_test_split(x,y,test_size=0.3,random_state=1234)\n",
    "x_train,x_test,y_train_log,y_test_log=train_test_split(x,y_log,test_size=0.3,random_state=1234)"
   ]
  },
  {
   "cell_type": "markdown",
   "metadata": {},
   "source": [
    "# Calling different models"
   ]
  },
  {
   "cell_type": "code",
   "execution_count": 16,
   "metadata": {},
   "outputs": [],
   "source": [
    "model_lasso=LassoCV(cv=5,random_state=1234)\n",
    "model_ridge=RidgeCV(cv=5,alphas=[0.1,1,2,3,4,5,6,7,8,9,10])\n",
    "model_linear=LinearRegression()\n",
    "RMSE=[]\n",
    "R_square=[]\n",
    "MAPE=[]\n",
    "MODELS=[]"
   ]
  },
  {
   "cell_type": "markdown",
   "metadata": {},
   "source": [
    "# Lasso Regression"
   ]
  },
  {
   "cell_type": "markdown",
   "metadata": {},
   "source": [
    "## Case 1"
   ]
  },
  {
   "cell_type": "code",
   "execution_count": 17,
   "metadata": {},
   "outputs": [
    {
     "name": "stdout",
     "output_type": "stream",
     "text": [
      "No of variables:  12\n",
      "  Case1- Sales Price as not log\n",
      "\n",
      "EnclosedPorch    -22.872047\n",
      "GarageYrBlt       -1.981877\n",
      "MiscVal           -0.111902\n",
      "LotArea            0.028427\n",
      "ScreenPorch        0.622495\n",
      "BsmtFinSF1        11.972605\n",
      "TotalBsmtSF       31.718728\n",
      "WoodDeckSF        39.109283\n",
      "MasVnrArea        50.451574\n",
      "Total_Sqft        64.924976\n",
      "GarageArea        80.829675\n",
      "YearRemodAdd     273.548959\n",
      "dtype: float64\n",
      "\n",
      "No of variables:  12\n",
      "RMSE:  35316.35617866007\n",
      "MAPE:  14.271334675079963\n",
      "R-Squared:  0.7504508248615199\n"
     ]
    }
   ],
   "source": [
    "MODELS.append(\"Lasso Regression\")\n",
    "model_lasso.fit(x_train,y_train)\n",
    "pred_lasso=model_lasso.predict(x_test)\n",
    "print(\"No of variables: \",sum(model_lasso.coef_!=0))\n",
    "predictors=x_train.columns\n",
    "coef=pd.Series(model_lasso.coef_,predictors).sort_values()\n",
    "print(\"  Case1- Sales Price as not log\")\n",
    "print()\n",
    "print(coef[coef.values!=0])\n",
    "print()\n",
    "print(\"No of variables: \",sum(model_lasso.coef_!=0))\n",
    "print(\"RMSE: \",np.sqrt(mean_squared_error(y_test,pred_lasso)))\n",
    "print(\"MAPE: \",mean_absolute_percentage_error(y_test,pred_lasso))\n",
    "print(\"R-Squared: \",r2_score(y_test,pred_lasso))\n",
    "RMSE.append(np.sqrt(mean_squared_error(y_test,pred_lasso)))\n",
    "MAPE.append(mean_absolute_percentage_error(y_test,pred_lasso))\n",
    "R_square.append(r2_score(y_test,pred_lasso))"
   ]
  },
  {
   "cell_type": "markdown",
   "metadata": {},
   "source": [
    "## Case 2 as log(sales price)"
   ]
  },
  {
   "cell_type": "code",
   "execution_count": 18,
   "metadata": {},
   "outputs": [
    {
     "name": "stdout",
     "output_type": "stream",
     "text": [
      "  Case2- Sales Price as log\n",
      "\n",
      "PoolArea        -2.266032e-04\n",
      "EnclosedPorch   -1.811441e-04\n",
      "MiscVal         -4.944915e-07\n",
      "LotArea          5.012835e-07\n",
      "BsmtFinSF1       5.103170e-05\n",
      "GarageYrBlt      5.404460e-05\n",
      "ScreenPorch      9.810537e-05\n",
      "MasVnrArea       1.137793e-04\n",
      "TotalBsmtSF      1.631450e-04\n",
      "WoodDeckSF       1.944281e-04\n",
      "Total_Sqft       3.077127e-04\n",
      "GarageArea       3.698746e-04\n",
      "YearRemodAdd     2.800276e-03\n",
      "dtype: float64\n",
      "\n",
      "No of variables:  12\n",
      "RMSE:  34800.80503038562\n",
      "MAPE:  13.656142635392523\n",
      "R-Squared:  0.7576835247594232\n"
     ]
    }
   ],
   "source": [
    "model_lasso_log=LassoCV(cv=5)\n",
    "model_lasso_log.fit(x_train,y_train_log)\n",
    "pred_lasso_log=model_lasso_log.predict(x_test)\n",
    "predictors=x_train.columns\n",
    "coef=pd.Series(model_lasso_log.coef_,predictors).sort_values()\n",
    "print(\"  Case2- Sales Price as log\")\n",
    "print()\n",
    "print(coef[coef.values!=0])\n",
    "print()\n",
    "print(\"No of variables: \",sum(model_lasso.coef_!=0))\n",
    "print(\"RMSE: \",np.sqrt(mean_squared_error(y_test,np.exp(pred_lasso_log))))\n",
    "print(\"MAPE: \",mean_absolute_percentage_error(y_test,np.exp(pred_lasso_log)))\n",
    "print(\"R-Squared: \",r2_score(y_test,np.exp(pred_lasso_log)))\n",
    "MODELS.append(\"Lasso Regression with log\")\n",
    "RMSE.append(np.sqrt(mean_squared_error(y_test,np.exp(pred_lasso_log))))\n",
    "MAPE.append(mean_absolute_percentage_error(y_test,np.exp(pred_lasso_log)))\n",
    "R_square.append(r2_score(y_test,np.exp(pred_lasso_log)))"
   ]
  },
  {
   "cell_type": "markdown",
   "metadata": {},
   "source": [
    "# Ridge Regression"
   ]
  },
  {
   "cell_type": "markdown",
   "metadata": {},
   "source": [
    "## Case 1"
   ]
  },
  {
   "cell_type": "code",
   "execution_count": 19,
   "metadata": {},
   "outputs": [
    {
     "name": "stdout",
     "output_type": "stream",
     "text": [
      "   Case 1 for  Sales Price\n",
      "Condition2_PosN        -22753.401839\n",
      "LotShape_IR3           -22075.349497\n",
      "Neighborhood_Edwards   -18394.939868\n",
      "KitchenQual_Gd         -18084.646519\n",
      "Neighborhood_Mitchel   -15687.893094\n",
      "KitchenQual_TA         -15254.952993\n",
      "ExterQual_TA           -13192.342591\n",
      "KitchenQual_Fa         -11629.416943\n",
      "Neighborhood_Gilbert   -10818.393996\n",
      "Neighborhood_OldTown   -10398.480051\n",
      "LotConfig_CulDSac       10160.632452\n",
      "Condition2_Norm         10626.981479\n",
      "LandContour_HLS         10884.159943\n",
      "OverallQual             11145.256477\n",
      "LotShape_IR2            11310.628171\n",
      "Exterior1st_BrkFace     11685.278314\n",
      "Functional_Typ          12895.104535\n",
      "GarageCars              12963.093059\n",
      "Exterior2nd_ImStucc     14030.354414\n",
      "LandContour_Lvl         17311.434685\n",
      "BsmtExposure_Gd         17493.811600\n",
      "BsmtQual_Ex             19614.096083\n",
      "Neighborhood_NridgHt    24013.298003\n",
      "Neighborhood_StoneBr    24921.331872\n",
      "RoofMatl_WdShngl        28892.380845\n",
      "Neighborhood_NoRidge    36098.709911\n",
      "dtype: float64\n",
      "\n",
      "RMSE:  24166.22758586377\n",
      "MAPE:  10.789311843264553\n",
      "R-Squared:  0.8831517844103863\n"
     ]
    }
   ],
   "source": [
    "model_ridge=RidgeCV(cv=5)\n",
    "results=model_ridge.fit(x_train,y_train)\n",
    "pred_ridge=model_ridge.predict(x_test)\n",
    "predictors=x_train.columns\n",
    "coef=pd.Series(model_ridge.coef_,predictors).sort_values()\n",
    "print(\"   Case 1 for  Sales Price\")\n",
    "print(coef[(coef<-10000) | (coef>10000)])\n",
    "print()\n",
    "print(\"RMSE: \",np.sqrt(mean_squared_error(y_test,pred_ridge)))\n",
    "print(\"MAPE: \",mean_absolute_percentage_error(y_test,pred_ridge))\n",
    "print(\"R-Squared: \",r2_score(y_test,pred_ridge))\n",
    "MODELS.append(\"Ridge Regression\")\n",
    "RMSE.append(np.sqrt(mean_squared_error(y_test,pred_ridge)))\n",
    "MAPE.append(mean_absolute_percentage_error(y_test,pred_ridge))\n",
    "R_square.append(r2_score(y_test,pred_ridge))"
   ]
  },
  {
   "cell_type": "markdown",
   "metadata": {},
   "source": [
    "## Case 2 as log(Sales Price)"
   ]
  },
  {
   "cell_type": "code",
   "execution_count": 20,
   "metadata": {},
   "outputs": [
    {
     "name": "stdout",
     "output_type": "stream",
     "text": [
      "   Case 2 for log Sales Price\n",
      "\n",
      "LotShape_IR3           -0.089821\n",
      "Neighborhood_Edwards   -0.084312\n",
      "Condition2_PosN        -0.078950\n",
      "Neighborhood_MeadowV   -0.067222\n",
      "Neighborhood_IDOTRR    -0.065470\n",
      "Neighborhood_OldTown   -0.058765\n",
      "KitchenQual_Fa         -0.052420\n",
      "GarageCars              0.050355\n",
      "CentralAir_Y            0.051650\n",
      "BldgType_2fmCon         0.053110\n",
      "MSZoning_FV             0.053690\n",
      "BsmtExposure_Gd         0.056643\n",
      "LandContour_Lvl         0.057314\n",
      "RoofMatl_WdShngl        0.058725\n",
      "Foundation_PConc        0.059142\n",
      "Functional_Typ          0.059484\n",
      "Exterior1st_BrkFace     0.061403\n",
      "OverallQual             0.063746\n",
      "Neighborhood_NoRidge    0.066985\n",
      "Neighborhood_Crawfor    0.087465\n",
      "Neighborhood_NridgHt    0.089096\n",
      "Neighborhood_StoneBr    0.089250\n",
      "dtype: float64\n",
      "\n",
      "RMSE:  23242.572989966626\n",
      "MAPE:  9.795332526983765\n",
      "R-Squared:  0.8919131726568802\n"
     ]
    }
   ],
   "source": [
    "model_ridge_log=RidgeCV(cv=5)\n",
    "model_ridge_log.fit(x_train,y_train_log)\n",
    "pred_ridge_log=model_ridge_log.predict(x_test)\n",
    "predictors=x_train.columns\n",
    "coef=pd.Series(model_ridge_log.coef_,predictors).sort_values()\n",
    "print(\"   Case 2 for log Sales Price\")\n",
    "print()\n",
    "print(coef[(coef<-0.05) | (coef>0.05)])\n",
    "print()\n",
    "print(\"RMSE: \",np.sqrt(mean_squared_error(y_test,np.exp(pred_ridge_log))))\n",
    "print(\"MAPE: \",mean_absolute_percentage_error(y_test,np.exp(pred_ridge_log)))\n",
    "print(\"R-Squared: \",r2_score(y_test,np.exp(pred_ridge_log)))\n",
    "MODELS.append(\"Ridge Regression with log\")\n",
    "RMSE.append(np.sqrt(mean_squared_error(y_test,np.exp(pred_ridge_log))))\n",
    "MAPE.append(mean_absolute_percentage_error(y_test,np.exp(pred_ridge_log)))\n",
    "R_square.append(r2_score(y_test,np.exp(pred_ridge_log)))"
   ]
  },
  {
   "cell_type": "markdown",
   "metadata": {},
   "source": [
    "# Linear Regression"
   ]
  },
  {
   "cell_type": "markdown",
   "metadata": {},
   "source": [
    "## Case1 "
   ]
  },
  {
   "cell_type": "code",
   "execution_count": 21,
   "metadata": {},
   "outputs": [
    {
     "name": "stdout",
     "output_type": "stream",
     "text": [
      "    Case 1 for sales price\n",
      "Condition2_PosN         -242811.947645\n",
      "GarageCond_Ex           -110852.502794\n",
      "Exterior1st_ImStucc      -69994.256849\n",
      "GarageQual_Po            -68163.190775\n",
      "Utilities_NoSeWa         -55920.793413\n",
      "GarageQual_Fa            -43897.960195\n",
      "GarageFinish_RFn         -42761.880741\n",
      "GarageQual_TA            -41629.327665\n",
      "GarageFinish_Unf         -39229.052316\n",
      "GarageFinish_Fin         -39154.999520\n",
      "GarageQual_Gd            -36002.692218\n",
      "GarageType_2Types        -35759.851218\n",
      "Neighborhood_Mitchel     -33355.816464\n",
      "Functional_Sev           -33288.142827\n",
      "Neighborhood_OldTown     -32092.239708\n",
      "Neighborhood_StoneBr      30736.819147\n",
      "MSZoning_RM               30984.511887\n",
      "Street_Pave               31405.445584\n",
      "Condition2_PosA           34035.067833\n",
      "Neighborhood_NoRidge      35121.019230\n",
      "SaleCondition_Partial     36548.800025\n",
      "Exterior2nd_ImStucc       38123.446963\n",
      "MSZoning_FV               49770.802007\n",
      "GarageQual_Ex             68547.238275\n",
      "RoofMatl_WdShake         627053.707471\n",
      "RoofMatl_Tar&Grv         648010.344100\n",
      "RoofMatl_CompShg         650652.866766\n",
      "RoofMatl_Metal           682926.962093\n",
      "RoofMatl_Membran         697566.332098\n",
      "RoofMatl_WdShngl         704855.000222\n",
      "dtype: float64\n",
      "\n",
      "RMSE:  38874.48777194941\n",
      "MAPE:  12.295181411557845\n",
      "R-Squared:  0.6976334661055716\n"
     ]
    }
   ],
   "source": [
    "model_linear=LinearRegression()\n",
    "model_linear.fit(x_train,y_train)\n",
    "pred_linear=model_linear.predict(x_test)\n",
    "predictors=x_train.columns\n",
    "coef=pd.Series(model_linear.coef_,predictors).sort_values()\n",
    "print(\"    Case 1 for sales price\")\n",
    "print(coef[(coef<-30000) | (coef>30000)])\n",
    "print()\n",
    "print(\"RMSE: \",np.sqrt(mean_squared_error(y_test,pred_linear)))\n",
    "print(\"MAPE: \",mean_absolute_percentage_error(y_test,pred_linear))\n",
    "print(\"R-Squared: \",r2_score(y_test,pred_linear))\n",
    "MODELS.append(\"Linear Regression\")\n",
    "RMSE.append(np.sqrt(mean_squared_error(y_test,pred_linear)))\n",
    "MAPE.append(mean_absolute_percentage_error(y_test,pred_linear))\n",
    "R_square.append(r2_score(y_test,pred_linear))"
   ]
  },
  {
   "cell_type": "markdown",
   "metadata": {},
   "source": [
    "## Case2 log of Sales Price"
   ]
  },
  {
   "cell_type": "code",
   "execution_count": 22,
   "metadata": {},
   "outputs": [
    {
     "name": "stdout",
     "output_type": "stream",
     "text": [
      " Case 2 for log sales price\n",
      "Condition2_PosN         -0.773168\n",
      "Exterior1st_BrkComm     -0.329493\n",
      "Utilities_NoSeWa        -0.325940\n",
      "Neighborhood_MeadowV    -0.233971\n",
      "Functional_Sev          -0.216679\n",
      "GarageCond_Ex           -0.209151\n",
      "SaleType_New            -0.201708\n",
      "SaleType_ConLD           0.202344\n",
      "BsmtFinType2_GLQ         0.211163\n",
      "GarageQual_Ex            0.228248\n",
      "SaleCondition_Partial    0.278892\n",
      "Heating_Wall             0.291234\n",
      "MSZoning_RM              0.323406\n",
      "MSZoning_RL              0.335411\n",
      "MSZoning_RH              0.338546\n",
      "MSZoning_FV              0.403257\n",
      "RoofMatl_WdShake         2.286915\n",
      "RoofMatl_Tar&Grv         2.382397\n",
      "RoofMatl_CompShg         2.400152\n",
      "RoofMatl_WdShngl         2.456787\n",
      "RoofMatl_Metal           2.528271\n",
      "RoofMatl_Membran         2.630005\n",
      "dtype: float64\n",
      "\n",
      "RMSE:  22787.45951433999\n",
      "MAPE:  9.560190810796035\n",
      "R-Squared:  0.8961046327805225\n"
     ]
    }
   ],
   "source": [
    "model_linear_log=LinearRegression()\n",
    "model_linear_log.fit(x_train,y_train_log)\n",
    "pred_linear_log=model_linear_log.predict(x_test)\n",
    "predictors=x_train.columns\n",
    "coef=pd.Series(model_linear_log.coef_,predictors).sort_values()\n",
    "print(\" Case 2 for log sales price\")\n",
    "print(coef[(coef<-0.2) | (coef>0.2)])\n",
    "print()\n",
    "print(\"RMSE: \",np.sqrt(mean_squared_error(y_test,np.exp(pred_linear_log))))\n",
    "print(\"MAPE: \",mean_absolute_percentage_error(y_test,np.exp(pred_linear_log)))\n",
    "print(\"R-Squared: \",r2_score(y_test,np.exp(pred_linear_log)))\n",
    "MODELS.append(\"Linear Regression with log\")\n",
    "RMSE.append(np.sqrt(mean_squared_error(y_test,np.exp(pred_linear_log))))\n",
    "MAPE.append(mean_absolute_percentage_error(y_test,np.exp(pred_linear_log)))\n",
    "R_square.append(r2_score(y_test,np.exp(pred_linear_log)))"
   ]
  },
  {
   "cell_type": "markdown",
   "metadata": {},
   "source": [
    "# Random Forest Regressor"
   ]
  },
  {
   "cell_type": "markdown",
   "metadata": {},
   "source": [
    "## Case 1"
   ]
  },
  {
   "cell_type": "code",
   "execution_count": 23,
   "metadata": {},
   "outputs": [
    {
     "name": "stdout",
     "output_type": "stream",
     "text": [
      "    Case 1 for sales price\n",
      "OverallQual      0.580617\n",
      "Total_Sqft       0.111802\n",
      "TotalBsmtSF      0.059994\n",
      "TotalBathroom    0.027219\n",
      "BsmtFinSF1       0.026345\n",
      "LotArea          0.021719\n",
      "GarageArea       0.019329\n",
      "TotRmsAbvGrd     0.016668\n",
      "GarageCars       0.014974\n",
      "MasVnrArea       0.011481\n",
      "dtype: float64\n",
      "\n",
      "RMSE:  24970.803612576732\n",
      "MAPE:  9.995473555362937\n",
      "R-Squared:  0.8752417137365461\n"
     ]
    }
   ],
   "source": [
    "model_rand=RandomForestRegressor(max_depth=30,min_samples_leaf=2,min_samples_split=2,n_estimators=100,random_state=1234)\n",
    "model_rand.fit(x_train,y_train)\n",
    "pred_rand=model_rand.predict(x_test)\n",
    "predictors=x_train.columns\n",
    "coef=pd.Series(model_rand.feature_importances_,predictors).sort_values(ascending=False)\n",
    "print(\"    Case 1 for sales price\")\n",
    "print(coef[coef>0.01])\n",
    "print()\n",
    "print(\"RMSE: \",np.sqrt(mean_squared_error(y_test,pred_rand)))\n",
    "print(\"MAPE: \",mean_absolute_percentage_error(y_test,pred_rand))\n",
    "print(\"R-Squared: \",r2_score(y_test,pred_rand))\n",
    "MODELS.append(\"Random Forest Regressor\")\n",
    "RMSE.append(np.sqrt(mean_squared_error(y_test,pred_rand)))\n",
    "MAPE.append(mean_absolute_percentage_error(y_test,pred_rand))\n",
    "R_square.append(r2_score(y_test,pred_rand))"
   ]
  },
  {
   "cell_type": "markdown",
   "metadata": {},
   "source": [
    "## Case2 Log(Sales Price)"
   ]
  },
  {
   "cell_type": "code",
   "execution_count": 24,
   "metadata": {},
   "outputs": [
    {
     "name": "stdout",
     "output_type": "stream",
     "text": [
      "    Case 2 for log sales price\n",
      "OverallQual     0.559681\n",
      "Total_Sqft      0.115100\n",
      "TotalBsmtSF     0.050664\n",
      "GarageArea      0.039904\n",
      "BsmtFinSF1      0.028760\n",
      "GarageCars      0.021770\n",
      "LotArea         0.016865\n",
      "CentralAir_Y    0.012106\n",
      "Fireplaces      0.010621\n",
      "dtype: float64\n",
      "\n",
      "RMSE:  25729.789569305412\n",
      "MAPE:  9.991079639687626\n",
      "R-Squared:  0.8675424154902394\n"
     ]
    }
   ],
   "source": [
    "model_rand_log=RandomForestRegressor(max_depth=30,min_samples_leaf=2,min_samples_split=2,n_estimators=100,random_state=1234)\n",
    "model_rand_log.fit(x_train,y_train_log)\n",
    "pred_rand_log=model_rand_log.predict(x_test)\n",
    "predictors=x_train.columns\n",
    "coef=pd.Series(model_rand_log.feature_importances_,predictors).sort_values(ascending=False)\n",
    "print(\"    Case 2 for log sales price\")\n",
    "print(coef[coef>0.01])\n",
    "print()\n",
    "print(\"RMSE: \",np.sqrt(mean_squared_error(y_test,np.exp(pred_rand_log))))\n",
    "print(\"MAPE: \",mean_absolute_percentage_error(y_test,np.exp(pred_rand_log)))\n",
    "print(\"R-Squared: \",r2_score(y_test,np.exp(pred_rand_log)))\n",
    "MODELS.append(\"Random Forest Regressor\")\n",
    "RMSE.append(np.sqrt(mean_squared_error(y_test,np.exp(pred_rand_log))))\n",
    "MAPE.append(mean_absolute_percentage_error(y_test,np.exp(pred_rand_log)))\n",
    "R_square.append(r2_score(y_test,np.exp(pred_rand_log)))"
   ]
  },
  {
   "cell_type": "markdown",
   "metadata": {},
   "source": [
    "# Stacked Regression"
   ]
  },
  {
   "cell_type": "code",
   "execution_count": 25,
   "metadata": {},
   "outputs": [],
   "source": [
    "model_linear=LinearRegression()\n",
    "model_ridge=RidgeCV(cv=5)\n",
    "model_lasso=LassoCV(cv=5)\n",
    "model_random=RandomForestRegressor()"
   ]
  },
  {
   "cell_type": "markdown",
   "metadata": {},
   "source": [
    "## Case 1 "
   ]
  },
  {
   "cell_type": "code",
   "execution_count": 26,
   "metadata": {},
   "outputs": [
    {
     "name": "stdout",
     "output_type": "stream",
     "text": [
      "task:         [regression]\n",
      "metric:       [mean_squared_error]\n",
      "mode:         [oof_pred_bag]\n",
      "n_models:     [4]\n",
      "\n",
      "model  0:     [LinearRegression]\n",
      "    fold  0:  [2390691471.04346943]\n"
     ]
    },
    {
     "name": "stderr",
     "output_type": "stream",
     "text": [
      "C:\\Users\\Nishant Kumar\\Anaconda3\\lib\\site-packages\\vecstack\\core.py:459: UserWarning: This is regression task hence classification-specific parameters set to <True> were ignored: <stratified>\n",
      "  warnings.warn(warn_str, UserWarning)\n"
     ]
    },
    {
     "name": "stdout",
     "output_type": "stream",
     "text": [
      "    fold  1:  [3817289466.06645775]\n",
      "    fold  2:  [3387118211.42110062]\n",
      "    fold  3:  [873102648.60555542]\n",
      "    ----\n",
      "    MEAN:     [2617050449.28414583] + [1132052381.09937334]\n",
      "    FULL:     [2618003365.17312956]\n",
      "\n",
      "model  1:     [RidgeCV]\n",
      "    fold  0:  [2269959581.77482224]\n",
      "    fold  1:  [2292837474.73428392]\n"
     ]
    },
    {
     "name": "stderr",
     "output_type": "stream",
     "text": [
      "C:\\Users\\Nishant Kumar\\Anaconda3\\lib\\site-packages\\sklearn\\model_selection\\_search.py:841: DeprecationWarning: The default of the `iid` parameter will change from True to False in version 0.22 and will be removed in 0.24. This will change numeric results when test-set sizes are unequal.\n",
      "  DeprecationWarning)\n",
      "C:\\Users\\Nishant Kumar\\Anaconda3\\lib\\site-packages\\sklearn\\model_selection\\_search.py:841: DeprecationWarning: The default of the `iid` parameter will change from True to False in version 0.22 and will be removed in 0.24. This will change numeric results when test-set sizes are unequal.\n",
      "  DeprecationWarning)\n"
     ]
    },
    {
     "name": "stdout",
     "output_type": "stream",
     "text": [
      "    fold  2:  [1196872787.03692555]\n",
      "    fold  3:  [715130093.84112656]\n",
      "    ----\n",
      "    MEAN:     [1618699984.34678936] + [684283777.13613510]\n",
      "    FULL:     [1619996850.38183403]\n",
      "\n",
      "model  2:     [LassoCV]\n",
      "    fold  0:  [2551561804.89921665]\n",
      "    fold  1:  [3853699663.34014082]\n",
      "    fold  2:  [2128247123.15233922]\n",
      "    fold  3:  [1347721451.93567562]\n",
      "    ----\n",
      "    MEAN:     [2470307510.83184290] + [907962124.26144338]\n",
      "    FULL:     [2471740628.68563509]\n",
      "\n",
      "model  3:     [RandomForestRegressor]\n"
     ]
    },
    {
     "name": "stderr",
     "output_type": "stream",
     "text": [
      "C:\\Users\\Nishant Kumar\\Anaconda3\\lib\\site-packages\\sklearn\\ensemble\\forest.py:246: FutureWarning: The default value of n_estimators will change from 10 in version 0.20 to 100 in 0.22.\n",
      "  \"10 in version 0.20 to 100 in 0.22.\", FutureWarning)\n"
     ]
    },
    {
     "name": "stdout",
     "output_type": "stream",
     "text": [
      "    fold  0:  [1087247869.80488253]\n",
      "    fold  1:  [1388153220.65070319]\n",
      "    fold  2:  [1247592948.56850958]\n",
      "    fold  3:  [695264064.14050972]\n",
      "    ----\n",
      "    MEAN:     [1104564525.79115129] + [259184496.09124860]\n",
      "    FULL:     [1104825065.94660473]\n",
      "\n"
     ]
    }
   ],
   "source": [
    "models=[model_linear,model_ridge,model_lasso,model_random]\n",
    "S_train, S_test = stacking(models,x_train, y_train, x_test,regression=True, mode='oof_pred_bag', needs_proba=False,save_dir=None, \n",
    "                            metric=mean_squared_error, n_folds=4, stratified=True,shuffle=True, random_state=1234,verbose=2)"
   ]
  },
  {
   "cell_type": "code",
   "execution_count": 27,
   "metadata": {},
   "outputs": [
    {
     "name": "stdout",
     "output_type": "stream",
     "text": [
      "           Case 1 sales price\n",
      "\n",
      "        Coefficients of models: \n",
      "Random Forest Regressor    0.862858\n",
      "RidgeCV                    0.247876\n",
      "Linear Regression          0.059331\n",
      "LassoCV                   -0.173431\n",
      "dtype: float64\n",
      "\n",
      "RMSE:  23208.010252905002\n",
      "MAPE:  9.87202957903883\n",
      "R-Squared:  0.8922343934582211\n"
     ]
    }
   ],
   "source": [
    "model_linear_stacked=LinearRegression()\n",
    "model_linear_stacked.fit(S_train,y_train)\n",
    "pred_stacked_linear=model_linear_stacked.predict(S_test)\n",
    "predictors=[\"Linear Regression\",\"RidgeCV\",\"LassoCV\",\"Random Forest Regressor\"]\n",
    "coef=pd.Series(model_linear_stacked.coef_,predictors).sort_values(ascending=False)\n",
    "print(\"           Case 1 sales price\")\n",
    "print()\n",
    "print(\"        Coefficients of models: \")\n",
    "print(coef)\n",
    "print(\"\")\n",
    "print(\"RMSE: \",np.sqrt(mean_squared_error(y_test,pred_stacked_linear)))\n",
    "print(\"MAPE: \",mean_absolute_percentage_error(y_test,pred_stacked_linear))\n",
    "print(\"R-Squared: \",r2_score(y_test,pred_stacked_linear))\n",
    "MODELS.append(\"Linear Regression Stacked\")\n",
    "RMSE.append(np.sqrt(mean_squared_error(y_test,pred_stacked_linear)))\n",
    "MAPE.append(mean_absolute_percentage_error(y_test,pred_stacked_linear))\n",
    "R_square.append(r2_score(y_test,pred_stacked_linear))"
   ]
  },
  {
   "cell_type": "markdown",
   "metadata": {},
   "source": [
    "## Case2 Log(Sales Price)"
   ]
  },
  {
   "cell_type": "code",
   "execution_count": 28,
   "metadata": {},
   "outputs": [
    {
     "name": "stdout",
     "output_type": "stream",
     "text": [
      "task:         [regression]\n",
      "metric:       [mean_squared_error]\n",
      "mode:         [oof_pred_bag]\n",
      "n_models:     [4]\n",
      "\n",
      "model  0:     [LinearRegression]\n",
      "    fold  0:  [0.03908012]\n",
      "    fold  1:  [0.05986127]\n",
      "    fold  2:  [0.05073354]\n",
      "    fold  3:  [0.01565550]\n",
      "    ----\n",
      "    MEAN:     [0.04133261] + [0.01655352]\n",
      "    FULL:     [0.04134853]\n",
      "\n",
      "model  1:     [RidgeCV]\n"
     ]
    },
    {
     "name": "stderr",
     "output_type": "stream",
     "text": [
      "C:\\Users\\Nishant Kumar\\Anaconda3\\lib\\site-packages\\vecstack\\core.py:459: UserWarning: This is regression task hence classification-specific parameters set to <True> were ignored: <stratified>\n",
      "  warnings.warn(warn_str, UserWarning)\n"
     ]
    },
    {
     "name": "stdout",
     "output_type": "stream",
     "text": [
      "    fold  0:  [0.03092783]\n",
      "    fold  1:  [0.03803343]\n",
      "    fold  2:  [0.02245437]\n",
      "    fold  3:  [0.01353350]\n",
      "    ----\n",
      "    MEAN:     [0.02623728] + [0.00917669]\n",
      "    FULL:     [0.02625341]\n",
      "\n",
      "model  2:     [LassoCV]\n",
      "    fold  0:  [0.04164048]\n",
      "    fold  1:  [0.08548595]\n",
      "    fold  2:  [0.03994548]\n",
      "    fold  3:  [0.03062790]\n",
      "    ----\n",
      "    MEAN:     [0.04942495] + [0.02123784]\n",
      "    FULL:     [0.04945262]\n",
      "\n",
      "model  3:     [RandomForestRegressor]\n"
     ]
    },
    {
     "name": "stderr",
     "output_type": "stream",
     "text": [
      "C:\\Users\\Nishant Kumar\\Anaconda3\\lib\\site-packages\\sklearn\\ensemble\\forest.py:246: FutureWarning: The default value of n_estimators will change from 10 in version 0.20 to 100 in 0.22.\n",
      "  \"10 in version 0.20 to 100 in 0.22.\", FutureWarning)\n"
     ]
    },
    {
     "name": "stdout",
     "output_type": "stream",
     "text": [
      "    fold  0:  [0.02537856]\n",
      "    fold  1:  [0.03026389]\n",
      "    fold  2:  [0.02445861]\n",
      "    fold  3:  [0.02069244]\n",
      "    ----\n",
      "    MEAN:     [0.02519838] + [0.00341111]\n",
      "    FULL:     [0.02520351]\n",
      "\n"
     ]
    }
   ],
   "source": [
    "models=[model_linear,model_ridge,model_lasso,model_random]\n",
    "S_train, S_test = stacking(models,x_train, y_train_log, x_test,regression=True, mode='oof_pred_bag', needs_proba=False,save_dir=None, \n",
    "                            metric=mean_squared_error, n_folds=4, stratified=True,shuffle=True, random_state=1234,verbose=2)"
   ]
  },
  {
   "cell_type": "code",
   "execution_count": 29,
   "metadata": {},
   "outputs": [
    {
     "name": "stdout",
     "output_type": "stream",
     "text": [
      "      Case 2 log of sales price\n",
      "\n",
      "        Coefficients of models: \n",
      "Random Forest Regressor    0.862858\n",
      "RidgeCV                    0.247876\n",
      "Linear Regression          0.059331\n",
      "LassoCV                   -0.173431\n",
      "dtype: float64\n",
      "\n",
      "RMSE:  22827.82868611124\n",
      "MAPE:  9.36692788539612\n",
      "R-Squared:  0.8957361946035376\n"
     ]
    }
   ],
   "source": [
    "model_linear_stacked_log=LinearRegression()\n",
    "model_linear_stacked_log.fit(S_train,y_train_log)\n",
    "pred_stacked_linear_log=model_linear_stacked_log.predict(S_test)\n",
    "predictors=[\"Linear Regression\",\"RidgeCV\",\"LassoCV\",\"Random Forest Regressor\"]\n",
    "coef=pd.Series(model_linear_stacked.coef_,predictors).sort_values(ascending=False)\n",
    "print(\"      Case 2 log of sales price\")\n",
    "print()\n",
    "print(\"        Coefficients of models: \")\n",
    "print(coef)\n",
    "print(\"\")\n",
    "print(\"RMSE: \",np.sqrt(mean_squared_error(y_test,np.exp(pred_stacked_linear_log))))\n",
    "print(\"MAPE: \",mean_absolute_percentage_error(y_test,np.exp(pred_stacked_linear_log)))\n",
    "print(\"R-Squared: \",r2_score(y_test,np.exp(pred_stacked_linear_log)))\n",
    "MODELS.append(\"Linear Regression Stacked with log Sales Price\")\n",
    "RMSE.append(np.sqrt(mean_squared_error(y_test,np.exp(pred_stacked_linear_log))))\n",
    "MAPE.append(mean_absolute_percentage_error(y_test,np.exp(pred_stacked_linear_log)))\n",
    "R_square.append(r2_score(y_test,np.exp(pred_stacked_linear_log)))"
   ]
  },
  {
   "cell_type": "markdown",
   "metadata": {},
   "source": [
    "# Ploting different evaluation graphs for every model"
   ]
  },
  {
   "cell_type": "code",
   "execution_count": 30,
   "metadata": {},
   "outputs": [],
   "source": [
    "evaluation=pd.DataFrame(columns={\"Models\",\"RMSE\",\"MAPE\",\"R-Square\"})\n",
    "evaluation[\"Models\"]=MODELS\n",
    "evaluation[\"RMSE\"]=RMSE\n",
    "evaluation[\"MAPE\"]=MAPE\n",
    "evaluation[\"R-Square\"]=R_square\n",
    "evaluation=evaluation.set_index(\"Models\")"
   ]
  },
  {
   "cell_type": "code",
   "execution_count": 31,
   "metadata": {},
   "outputs": [
    {
     "data": {
      "text/plain": [
       "Text(0.5, 1.0, 'R-Square of Different Models')"
      ]
     },
     "execution_count": 31,
     "metadata": {},
     "output_type": "execute_result"
    },
    {
     "data": {
      "image/png": "[encoded data removed]",
      "text/plain": [
       "<Figure size 432x288 with 1 Axes>"
      ]
     },
     "metadata": {
      "needs_background": "light"
     },
     "output_type": "display_data"
    }
   ],
   "source": [
    "evaluation[\"R-Square\"].plot()\n",
    "plt.xticks(rotation=90)\n",
    "plt.ylabel(\"R-Square\")\n",
    "plt.title(\"R-Square of Different Models\")"
   ]
  },
  {
   "cell_type": "code",
   "execution_count": 32,
   "metadata": {},
   "outputs": [
    {
     "data": {
      "text/plain": [
       "Text(0.5, 1.0, 'Mean Absolute Percentage Error for different models')"
      ]
     },
     "execution_count": 32,
     "metadata": {},
     "output_type": "execute_result"
    },
    {
     "data": {
      "image/png": "[encoded data removed]",
      "text/plain": [
       "<Figure size 432x288 with 1 Axes>"
      ]
     },
     "metadata": {
      "needs_background": "light"
     },
     "output_type": "display_data"
    }
   ],
   "source": [
    "evaluation[\"MAPE\"].plot()\n",
    "plt.xticks(rotation=90)\n",
    "plt.ylabel(\"MAPE\")\n",
    "plt.title(\"Mean Absolute Percentage Error for different models\")"
   ]
  },
  {
   "cell_type": "code",
   "execution_count": 33,
   "metadata": {},
   "outputs": [
    {
     "data": {
      "text/plain": [
       "Text(0.5, 1.0, 'Root Mean Squared Error of Different Models')"
      ]
     },
     "execution_count": 33,
     "metadata": {},
     "output_type": "execute_result"
    },
    {
     "data": {
      "image/png": "[encoded data removed]",
      "text/plain": [
       "<Figure size 432x288 with 1 Axes>"
      ]
     },
     "metadata": {
      "needs_background": "light"
     },
     "output_type": "display_data"
    }
   ],
   "source": [
    "evaluation[\"RMSE\"].plot()\n",
    "plt.xticks(rotation=90)\n",
    "plt.ylabel(\"RMSE\")\n",
    "plt.title(\"Root Mean Squared Error of Different Models\")"
   ]
  }
 ],
 "metadata": {
  "kernelspec": {
   "display_name": "Python 3",
   "language": "python",
   "name": "python3"
  },
  "language_info": {
   "codemirror_mode": {
    "name": "ipython",
    "version": 3
   },
   "file_extension": ".py",
   "mimetype": "text/x-python",
   "name": "python",
   "nbconvert_exporter": "python",
   "pygments_lexer": "ipython3",
   "version": "3.7.3"
  }
 },
 "nbformat": 4,
 "nbformat_minor": 2
}
